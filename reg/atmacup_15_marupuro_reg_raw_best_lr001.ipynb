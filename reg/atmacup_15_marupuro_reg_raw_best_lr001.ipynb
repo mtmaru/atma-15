{
 "cells": [
  {
   "cell_type": "markdown",
   "id": "cb51b033-6fc4-4a1e-8f02-83a3a4e5d30f",
   "metadata": {},
   "source": [
    "# #15 atmaCup 正則化の強さを変えたときの精度 (行列分解なし) 提出用\n",
    "\n",
    "比較対象：\n",
    "\n",
    "- SVD (正則化なし)\n",
    "- SVD (正則化あり)\n",
    "- NMF (正則化なし)\n",
    "- NMF (正則化あり)\n",
    "- 行列分解なし  ← 本notebookはこれを、学習率0.01で学習させなおしたもの"
   ]
  },
  {
   "cell_type": "markdown",
   "id": "87f62238-84f9-45f0-9f3a-8d6eacf3317b",
   "metadata": {},
   "source": [
    "---"
   ]
  },
  {
   "cell_type": "markdown",
   "id": "23589dbc-0e24-418f-8af9-38151531a96e",
   "metadata": {},
   "source": [
    "## セットアップ"
   ]
  },
  {
   "cell_type": "code",
   "execution_count": null,
   "id": "0de263aa-5de5-4ca8-a475-c1fb48ee7bb2",
   "metadata": {},
   "outputs": [],
   "source": [
    "import numpy as np\n",
    "import pandas as pd\n",
    "import lightgbm as lgb"
   ]
  },
  {
   "cell_type": "code",
   "execution_count": null,
   "id": "565757ad-6db9-41cc-9c67-204eac6f2670",
   "metadata": {},
   "outputs": [],
   "source": [
    "train = pd.read_csv('data/train.csv')\n",
    "test = pd.read_csv('data/test.csv')\n",
    "anime = pd.read_csv('data/anime.csv', na_values=['Unknown'])"
   ]
  },
  {
   "cell_type": "markdown",
   "id": "1ca1b7c9-525a-4a81-9388-827561e3ef24",
   "metadata": {},
   "source": [
    "## 前処理"
   ]
  },
  {
   "cell_type": "markdown",
   "id": "b7a6fe05-53a7-4aa1-ac3e-a8db58eea3cf",
   "metadata": {},
   "source": [
    "### 共通の前処理"
   ]
  },
  {
   "cell_type": "code",
   "execution_count": null,
   "id": "3cedd934-6d31-485c-bbe4-d5fed8868de9",
   "metadata": {},
   "outputs": [],
   "source": [
    "train_anime = train.merge(anime, how='left', on='anime_id')\n",
    "test_anime = test.merge(anime, how='left', on='anime_id')\n",
    "traintest_anime = pd.concat([train_anime, test_anime], ignore_index=True)"
   ]
  },
  {
   "cell_type": "markdown",
   "id": "428f1a6b-cd0c-4b8f-b6a9-66a699fd1916",
   "metadata": {},
   "source": [
    "### ユーザーとアニメの分散表現の獲得"
   ]
  },
  {
   "cell_type": "code",
   "execution_count": null,
   "id": "82df7f58-0019-445b-b72b-dda8f3650719",
   "metadata": {},
   "outputs": [],
   "source": [
    "user_anime = (\n",
    "    traintest_anime[['user_id', 'anime_id']]\n",
    "    .assign(one=1)\n",
    "    .pivot(index='user_id', columns='anime_id', values='one')\n",
    "    .fillna(0)\n",
    ")\n",
    "anime_user = (\n",
    "    traintest_anime[['user_id', 'anime_id']]\n",
    "    .assign(one=1)\n",
    "    .pivot(index='anime_id', columns='user_id', values='one')\n",
    "    .fillna(0)\n",
    ")\n",
    "\n",
    "x_train = (\n",
    "    train\n",
    "    .merge(user_anime, how='left', on='user_id')\n",
    "    .merge(anime_user, how='left', on='anime_id')\n",
    "    .drop(columns=['score', 'user_id', 'anime_id'])\n",
    ")\n",
    "y_train = train['score']\n",
    "user_id_train = train['user_id']"
   ]
  },
  {
   "cell_type": "markdown",
   "id": "303545b3-0602-4877-a503-4e96ffa39cfa",
   "metadata": {},
   "source": [
    "## 学習"
   ]
  },
  {
   "cell_type": "code",
   "execution_count": null,
   "id": "73d98597-52b3-4f13-b808-012b739d8936",
   "metadata": {},
   "outputs": [],
   "source": [
    "from sklearn.model_selection import KFold, GroupKFold\n",
    "\n",
    "# テストデータと同じように学習データに存在しないユーザーの評価結果が約23％を占めるようデータを分割する。\n",
    "class UnknownUserKFold:\n",
    "    def __init__(self, n_splits_cv, n_splits_uu):\n",
    "        self.n_splits_cv = n_splits_cv\n",
    "        self.n_splits_uu = n_splits_uu\n",
    "\n",
    "    def split(self, X, y=None, groups=None):\n",
    "        splits_cv = KFold(n_splits=self.n_splits_cv, shuffle=True, random_state=0).split(X)\n",
    "        splits_uu = GroupKFold(n_splits=self.n_splits_uu).split(X, groups=groups)\n",
    "        for fold in range(self.n_splits_cv):\n",
    "            train_index, test_index = next(splits_cv)\n",
    "            _, uu_index = next(splits_uu)\n",
    "            train_index = np.setdiff1d(train_index, uu_index)\n",
    "            test_index = np.union1d(test_index, uu_index)\n",
    "\n",
    "            yield train_index, test_index"
   ]
  },
  {
   "cell_type": "code",
   "execution_count": null,
   "id": "e61c0597-3e9d-4ba7-9446-a7820cb159cf",
   "metadata": {},
   "outputs": [],
   "source": [
    "models = []\n",
    "scores = []\n",
    "kf = UnknownUserKFold(n_splits_cv=5, n_splits_uu=18)\n",
    "for fold, (train_index, test_index) in enumerate(kf.split(x_train, groups=user_id_train)):\n",
    "    cv_x_train = x_train.iloc[train_index, :]\n",
    "    cv_y_train = y_train.iloc[train_index]\n",
    "    cv_x_test = x_train.iloc[test_index, :]\n",
    "    cv_y_test = y_train.iloc[test_index]\n",
    "\n",
    "    model = lgb.train(\n",
    "        params={\n",
    "            'objective': 'regression',\n",
    "            'verbose': -1,\n",
    "            'metric': 'rmse',\n",
    "            'learning_rate': 0.01,  # 0.05 -> 0.01\n",
    "            'num_leaves': 100,\n",
    "            'feature_fraction': 0.7,\n",
    "            'seed': 127\n",
    "        },\n",
    "        train_set=lgb.Dataset(cv_x_train, label=cv_y_train),\n",
    "        valid_sets=[lgb.Dataset(cv_x_test, label=cv_y_test)],\n",
    "        num_boost_round=100000,\n",
    "        callbacks=[lgb.early_stopping(stopping_rounds=500, verbose=True)]  # 100 -> 500\n",
    "    )\n",
    "    models.append(model)\n",
    "    scores.append(model.best_score['valid_0']['rmse'])\n",
    "    print('')\n",
    "\n",
    "print(f'cv: {np.mean(scores):.4f} ± {np.std(scores):.4f}')"
   ]
  },
  {
   "cell_type": "markdown",
   "id": "2d4cc552-67eb-4d63-9c46-56297947bef8",
   "metadata": {},
   "source": [
    "## 予測"
   ]
  },
  {
   "cell_type": "code",
   "execution_count": null,
   "id": "f4f65a90-2b80-441e-a5fc-e0bbbfd7a4fb",
   "metadata": {},
   "outputs": [],
   "source": [
    "x_test = (\n",
    "    test\n",
    "    .merge(user_anime, how='left', on='user_id')\n",
    "    .merge(anime_user, how='left', on='anime_id')\n",
    "    .drop(columns=['user_id', 'anime_id'])\n",
    ")\n",
    "y_test_pred = np.mean([model.predict(x_test) for model in models], axis=0)\n",
    "\n",
    "sub = pd.DataFrame(data={'score': y_test_pred})\n",
    "sub.loc[sub['score'] < 1, 'score'] = 1\n",
    "sub.loc[sub['score'] > 10, 'score'] = 10\n",
    "sub.to_csv(f'submission/submission_reg_raw_best_lr001.csv', index=False, header=True)"
   ]
  }
 ],
 "metadata": {
  "environment": {
   "kernel": "python3",
   "name": "common-cpu.m109",
   "type": "gcloud",
   "uri": "gcr.io/deeplearning-platform-release/base-cpu:m109"
  },
  "kernelspec": {
   "display_name": "Python 3",
   "language": "python",
   "name": "python3"
  },
  "language_info": {
   "codemirror_mode": {
    "name": "ipython",
    "version": 3
   },
   "file_extension": ".py",
   "mimetype": "text/x-python",
   "name": "python",
   "nbconvert_exporter": "python",
   "pygments_lexer": "ipython3",
   "version": "3.10.11"
  }
 },
 "nbformat": 4,
 "nbformat_minor": 5
}
